{
 "cells": [
  {
   "cell_type": "markdown",
   "metadata": {},
   "source": [
    "##### The University of Melbourne, School of Computing and Information Systems\n",
    "# COMP30027 Machine Learning, 2022 Semester 1\n",
    "\n",
    "## Assignment 2: Sentiment Classification of Tweets | Model\n",
    "\n",
    "This notebook contains code focused on selecting features for a best accuracy model.\n",
    "\n",
    "**Full Name:** `Xavier Travers`\n",
    "\n",
    "**Student ID:** `1178369`\n",
    "\n",
    "First, import the data and the necessary python modules for the pipeline"
   ]
  },
  {
   "cell_type": "code",
   "execution_count": 1,
   "metadata": {},
   "outputs": [],
   "source": [
    "import pandas as pd\n",
    "from pprint import pprint\n",
    "from time import time\n",
    "import logging\n",
    "from tempfile import mkdtemp\n",
    "from shutil import rmtree\n",
    "from scipy import sparse\n",
    "\n",
    "# import the feature extractors\n",
    "from features import *\n",
    "\n",
    "# classifiers\n",
    "from sklearn.base import BaseEstimator\n",
    "from sklearn.naive_bayes import GaussianNB, MultinomialNB, BernoulliNB\n",
    "from sklearn.linear_model import LogisticRegression, SGDClassifier\n",
    "from sklearn.tree import DecisionTreeClassifier\n",
    "from sklearn.neighbors import KNeighborsClassifier\n",
    "from sklearn.svm import SVC, LinearSVC\n",
    "from sklearn.dummy import DummyClassifier\n",
    "\n",
    "\n",
    "# pipeline and parameter optimisation\n",
    "from sklearn.preprocessing import StandardScaler\n",
    "from sklearn.pipeline import Pipeline\n",
    "from sklearn.model_selection import GridSearchCV\n",
    "\n",
    "# cross-validation\n",
    "from sklearn.model_selection import cross_val_score\n",
    "\n",
    "# import the data\n",
    "train_data = pd.read_csv(\"../datasets/Train.csv\", sep=',')\n",
    "test_data = pd.read_csv(\"../datasets/Test.csv\", sep=',')\n",
    "\n",
    "# extract the training inputs and outputs\n",
    "train_input = train_data[['text']].values[:, 0]\n",
    "train_output = train_data[['sentiment']].values[:, 0]\n",
    "test_input = test_data[['text']].values[:, 0]"
   ]
  },
  {
   "cell_type": "markdown",
   "metadata": {},
   "source": [
    "### Classifier Container Object\n",
    "This will contain classifiers (which can then be compared by `GridSearchCV`).\n",
    "\n",
    "Reference: https://stackoverflow.com/questions/50285973/pipeline-multiple-classifiers"
   ]
  },
  {
   "cell_type": "code",
   "execution_count": 2,
   "metadata": {},
   "outputs": [],
   "source": [
    "class ClassifierContainer(BaseEstimator):\n",
    "\n",
    "    def __init__(\n",
    "        self, \n",
    "        estimator = LogisticRegression(),\n",
    "    ):\n",
    "        \"\"\"\n",
    "        A Custom BaseEstimator that can switch between classifiers.\n",
    "        :param estimator: sklearn object - The classifier\n",
    "        \"\"\" \n",
    "\n",
    "        self.estimator = estimator\n",
    "\n",
    "    def fit(self, X, y=None, **kwargs):\n",
    "        self.estimator.fit(X, y)\n",
    "        return self\n",
    "\n",
    "    def predict(self, X, y=None):\n",
    "        return self.estimator.predict(X)\n",
    "\n",
    "    def predict_proba(self, X):\n",
    "        return self.estimator.predict_proba(X)\n",
    "\n",
    "    def score(self, X, y):\n",
    "        return self.estimator.score(X, y)\n",
    "\n",
    "    def cv_scores(self, X, y, cv=10): # returns a dictionary of average score and scores list\n",
    "        scores = cross_val_score(self.estimator, X, y, cv = cv)\n",
    "        return {\n",
    "            'values': scores,\n",
    "            'average': np.average(scores)\n",
    "        }"
   ]
  },
  {
   "cell_type": "markdown",
   "metadata": {},
   "source": [
    "### Baseline Model\n",
    "The baseline model for this dataset will be `0R`"
   ]
  },
  {
   "cell_type": "code",
   "execution_count": 3,
   "metadata": {},
   "outputs": [
    {
     "name": "stdout",
     "output_type": "stream",
     "text": [
      "{'average': 0.5806348194793232,\n",
      " 'values': array([0.58046768, 0.58046768, 0.58073394, 0.58073394, 0.58073394,\n",
      "       0.58073394, 0.58073394, 0.58073394, 0.58073394, 0.58027523])}\n"
     ]
    }
   ],
   "source": [
    "# create the baseline model\n",
    "baseline = ClassifierContainer(DummyClassifier(strategy=\"most_frequent\"))\n",
    "baseline.fit(train_input, train_output)\n",
    "\n",
    "# Check the baseline model's accuracy\n",
    "pprint(baseline.cv_scores(train_input, train_output, cv = 10))"
   ]
  },
  {
   "cell_type": "markdown",
   "metadata": {},
   "source": [
    "### Features\n",
    "The features can be aggregated or added one by one."
   ]
  },
  {
   "cell_type": "code",
   "execution_count": 4,
   "metadata": {},
   "outputs": [
    {
     "name": "stdout",
     "output_type": "stream",
     "text": [
      "(21802, 2805)\n",
      "(21802, 164)\n",
      "(21802, 194)\n",
      "(21802, 4)\n",
      "(21802, 3167)\n",
      "<class 'scipy.sparse._coo.coo_matrix'>\n",
      "(21802, 2805)\n",
      "(21802, 164)\n",
      "(21802, 194)\n",
      "(21802, 4)\n",
      "(21802, 3167)\n",
      "<class 'scipy.sparse._coo.coo_matrix'>\n",
      "(21802,)\n"
     ]
    }
   ],
   "source": [
    "# The number of top TweetFeatures to filter through\n",
    "WORDS_TOP_N = 2000\n",
    "TOP_N = 100\n",
    "\n",
    "# create the transformers\n",
    "transformers = [\n",
    "    TweetBagOfWords(top_n=WORDS_TOP_N), # Bag of words vectorizer\n",
    "    # TweetTFIDF(top_n=WORDS_TOP_N), # TF-IDF vectorizer\n",
    "    # TweetMetrics(), # Count metrics for tweets\n",
    "    # TweetWordLengths(top_n=TOP_N, by_sentiment=True), # Word lengths\n",
    "    # TweetCharacterFrequencies(top_n=TOP_N, by_sentiment=True, alphabetic=False), # Character distributions\n",
    "    # TweetLinks(top_n=TOP_N, by_sentiment=True), # Links\n",
    "    TweetHashtags(top_n=TOP_N), # Hashtags\n",
    "    TweetReferences(top_n=TOP_N), # References\n",
    "    TweetEmoticons(), # Emoticons\n",
    "    # TweetPhonetics(top_n=TOP_N), # Raw phonetics\n",
    "    # TweetPoetics(), # Poetic Phonetics\n",
    "]\n",
    "\n",
    "# perform the transforms and combine them into the input matrix\n",
    "train_transforms = [tf.fit_transform(train_input, train_output) for tf in transformers]\n",
    "\n",
    "# print the shapes of the transforms\n",
    "for t in train_transforms:\n",
    "    print(t.shape)\n",
    "\n",
    "train_features = sparse.hstack(train_transforms)\n",
    "\n",
    "# feature matrix information\n",
    "print(train_features.shape)\n",
    "print(type(train_features))\n",
    "\n",
    "# do the same to test data\n",
    "test_transforms = [tf.transform(test_input) for tf in transformers]\n",
    "\n",
    "# print the shapes of the transforms\n",
    "for t in test_transforms:\n",
    "    print(t.shape)\n",
    "\n",
    "test_features = sparse.hstack(test_transforms)\n",
    "\n",
    "# feature matrix information\n",
    "print(test_features.shape)\n",
    "print(type(test_features))\n",
    "\n",
    "# lets check out those dimensions and the 1st element\n",
    "print(train_input.shape)"
   ]
  },
  {
   "cell_type": "markdown",
   "metadata": {},
   "source": [
    "### Model Explorations\n",
    "Here, different models are cross-validated to find the best one.\n",
    "\n",
    "References: \n",
    "- https://scikit-learn.org/stable/modules/compose.html#pipeline\n",
    "- https://scikit-learn.org/stable/auto_examples/model_selection/grid_search_text_feature_extraction.html"
   ]
  },
  {
   "cell_type": "code",
   "execution_count": 5,
   "metadata": {},
   "outputs": [
    {
     "name": "stdout",
     "output_type": "stream",
     "text": [
      "Performing grid search...\n",
      "pipeline: ['norm', 'clf']\n",
      "parameters:\n",
      "[{'clf__estimator': [LinearSVC()],\n",
      "  'clf__estimator__C': [10, 1, 0.001, 1e-06],\n",
      "  'clf__estimator__max_iter': [1000, 5000],\n",
      "  'norm': [StandardScaler()],\n",
      "  'norm__with_mean': [False]},\n",
      " {'clf__estimator': [KNeighborsClassifier()],\n",
      "  'clf__estimator__n_neighbors': [5, 10, 100]},\n",
      " {'clf__estimator': [DecisionTreeClassifier()],\n",
      "  'clf__estimator__criterion': ['gini', 'entropy'],\n",
      "  'clf__estimator__max_depth': [None, 1, 10, 20]},\n",
      " {'clf__estimator': [MultinomialNB(), BernoulliNB()],\n",
      "  'clf__estimator__alpha': [1, 0.001, 1e-06],\n",
      "  'clf__estimator__fit_prior': [True, False]},\n",
      " {'clf__estimator': [LogisticRegression()],\n",
      "  'clf__estimator__max_iter': [1000, 5000],\n",
      "  'clf__estimator__solver': ['newton-cg', 'sag', 'saga', 'lbfgs']}]\n",
      "Fitting 10 folds for each of 39 candidates, totalling 390 fits\n"
     ]
    },
    {
     "name": "stderr",
     "output_type": "stream",
     "text": [
      "C:\\Python310\\lib\\site-packages\\sklearn\\svm\\_base.py:1206: ConvergenceWarning: Liblinear failed to converge, increase the number of iterations.\n",
      "  warnings.warn(\n"
     ]
    },
    {
     "name": "stdout",
     "output_type": "stream",
     "text": [
      "[CV 1/10] END clf__estimator=LinearSVC(), clf__estimator__C=10, clf__estimator__max_iter=1000, norm=StandardScaler(), norm__with_mean=False;, score=0.560 total time=   2.1s\n"
     ]
    },
    {
     "name": "stderr",
     "output_type": "stream",
     "text": [
      "C:\\Python310\\lib\\site-packages\\sklearn\\svm\\_base.py:1206: ConvergenceWarning: Liblinear failed to converge, increase the number of iterations.\n",
      "  warnings.warn(\n"
     ]
    },
    {
     "name": "stdout",
     "output_type": "stream",
     "text": [
      "[CV 2/10] END clf__estimator=LinearSVC(), clf__estimator__C=10, clf__estimator__max_iter=1000, norm=StandardScaler(), norm__with_mean=False;, score=0.554 total time=   2.1s\n"
     ]
    },
    {
     "name": "stderr",
     "output_type": "stream",
     "text": [
      "C:\\Python310\\lib\\site-packages\\sklearn\\svm\\_base.py:1206: ConvergenceWarning: Liblinear failed to converge, increase the number of iterations.\n",
      "  warnings.warn(\n"
     ]
    },
    {
     "name": "stdout",
     "output_type": "stream",
     "text": [
      "[CV 3/10] END clf__estimator=LinearSVC(), clf__estimator__C=10, clf__estimator__max_iter=1000, norm=StandardScaler(), norm__with_mean=False;, score=0.566 total time=   2.1s\n"
     ]
    },
    {
     "name": "stderr",
     "output_type": "stream",
     "text": [
      "C:\\Python310\\lib\\site-packages\\sklearn\\svm\\_base.py:1206: ConvergenceWarning: Liblinear failed to converge, increase the number of iterations.\n",
      "  warnings.warn(\n"
     ]
    },
    {
     "name": "stdout",
     "output_type": "stream",
     "text": [
      "[CV 4/10] END clf__estimator=LinearSVC(), clf__estimator__C=10, clf__estimator__max_iter=1000, norm=StandardScaler(), norm__with_mean=False;, score=0.566 total time=   2.3s\n"
     ]
    },
    {
     "name": "stderr",
     "output_type": "stream",
     "text": [
      "C:\\Python310\\lib\\site-packages\\sklearn\\svm\\_base.py:1206: ConvergenceWarning: Liblinear failed to converge, increase the number of iterations.\n",
      "  warnings.warn(\n"
     ]
    },
    {
     "name": "stdout",
     "output_type": "stream",
     "text": [
      "[CV 5/10] END clf__estimator=LinearSVC(), clf__estimator__C=10, clf__estimator__max_iter=1000, norm=StandardScaler(), norm__with_mean=False;, score=0.568 total time=   2.1s\n"
     ]
    },
    {
     "name": "stderr",
     "output_type": "stream",
     "text": [
      "C:\\Python310\\lib\\site-packages\\sklearn\\svm\\_base.py:1206: ConvergenceWarning: Liblinear failed to converge, increase the number of iterations.\n",
      "  warnings.warn(\n"
     ]
    },
    {
     "name": "stdout",
     "output_type": "stream",
     "text": [
      "[CV 6/10] END clf__estimator=LinearSVC(), clf__estimator__C=10, clf__estimator__max_iter=1000, norm=StandardScaler(), norm__with_mean=False;, score=0.583 total time=   2.2s\n"
     ]
    },
    {
     "name": "stderr",
     "output_type": "stream",
     "text": [
      "C:\\Python310\\lib\\site-packages\\sklearn\\svm\\_base.py:1206: ConvergenceWarning: Liblinear failed to converge, increase the number of iterations.\n",
      "  warnings.warn(\n"
     ]
    },
    {
     "name": "stdout",
     "output_type": "stream",
     "text": [
      "[CV 7/10] END clf__estimator=LinearSVC(), clf__estimator__C=10, clf__estimator__max_iter=1000, norm=StandardScaler(), norm__with_mean=False;, score=0.577 total time=   2.1s\n"
     ]
    },
    {
     "name": "stderr",
     "output_type": "stream",
     "text": [
      "C:\\Python310\\lib\\site-packages\\sklearn\\svm\\_base.py:1206: ConvergenceWarning: Liblinear failed to converge, increase the number of iterations.\n",
      "  warnings.warn(\n"
     ]
    },
    {
     "name": "stdout",
     "output_type": "stream",
     "text": [
      "[CV 8/10] END clf__estimator=LinearSVC(), clf__estimator__C=10, clf__estimator__max_iter=1000, norm=StandardScaler(), norm__with_mean=False;, score=0.556 total time=   2.1s\n"
     ]
    },
    {
     "name": "stderr",
     "output_type": "stream",
     "text": [
      "C:\\Python310\\lib\\site-packages\\sklearn\\svm\\_base.py:1206: ConvergenceWarning: Liblinear failed to converge, increase the number of iterations.\n",
      "  warnings.warn(\n"
     ]
    },
    {
     "name": "stdout",
     "output_type": "stream",
     "text": [
      "[CV 9/10] END clf__estimator=LinearSVC(), clf__estimator__C=10, clf__estimator__max_iter=1000, norm=StandardScaler(), norm__with_mean=False;, score=0.566 total time=   2.1s\n"
     ]
    },
    {
     "name": "stderr",
     "output_type": "stream",
     "text": [
      "C:\\Python310\\lib\\site-packages\\sklearn\\svm\\_base.py:1206: ConvergenceWarning: Liblinear failed to converge, increase the number of iterations.\n",
      "  warnings.warn(\n"
     ]
    },
    {
     "name": "stdout",
     "output_type": "stream",
     "text": [
      "[CV 10/10] END clf__estimator=LinearSVC(), clf__estimator__C=10, clf__estimator__max_iter=1000, norm=StandardScaler(), norm__with_mean=False;, score=0.571 total time=   2.1s\n"
     ]
    },
    {
     "name": "stderr",
     "output_type": "stream",
     "text": [
      "C:\\Python310\\lib\\site-packages\\sklearn\\svm\\_base.py:1206: ConvergenceWarning: Liblinear failed to converge, increase the number of iterations.\n",
      "  warnings.warn(\n"
     ]
    },
    {
     "name": "stdout",
     "output_type": "stream",
     "text": [
      "[CV 1/10] END clf__estimator=LinearSVC(), clf__estimator__C=10, clf__estimator__max_iter=5000, norm=StandardScaler(), norm__with_mean=False;, score=0.611 total time=   9.7s\n"
     ]
    },
    {
     "name": "stderr",
     "output_type": "stream",
     "text": [
      "C:\\Python310\\lib\\site-packages\\sklearn\\svm\\_base.py:1206: ConvergenceWarning: Liblinear failed to converge, increase the number of iterations.\n",
      "  warnings.warn(\n"
     ]
    },
    {
     "name": "stdout",
     "output_type": "stream",
     "text": [
      "[CV 2/10] END clf__estimator=LinearSVC(), clf__estimator__C=10, clf__estimator__max_iter=5000, norm=StandardScaler(), norm__with_mean=False;, score=0.594 total time=   9.7s\n"
     ]
    },
    {
     "name": "stderr",
     "output_type": "stream",
     "text": [
      "C:\\Python310\\lib\\site-packages\\sklearn\\svm\\_base.py:1206: ConvergenceWarning: Liblinear failed to converge, increase the number of iterations.\n",
      "  warnings.warn(\n"
     ]
    },
    {
     "name": "stdout",
     "output_type": "stream",
     "text": [
      "[CV 3/10] END clf__estimator=LinearSVC(), clf__estimator__C=10, clf__estimator__max_iter=5000, norm=StandardScaler(), norm__with_mean=False;, score=0.586 total time=   9.8s\n"
     ]
    },
    {
     "name": "stderr",
     "output_type": "stream",
     "text": [
      "C:\\Python310\\lib\\site-packages\\sklearn\\svm\\_base.py:1206: ConvergenceWarning: Liblinear failed to converge, increase the number of iterations.\n",
      "  warnings.warn(\n"
     ]
    },
    {
     "name": "stdout",
     "output_type": "stream",
     "text": [
      "[CV 4/10] END clf__estimator=LinearSVC(), clf__estimator__C=10, clf__estimator__max_iter=5000, norm=StandardScaler(), norm__with_mean=False;, score=0.576 total time=   9.7s\n"
     ]
    },
    {
     "name": "stderr",
     "output_type": "stream",
     "text": [
      "C:\\Python310\\lib\\site-packages\\sklearn\\svm\\_base.py:1206: ConvergenceWarning: Liblinear failed to converge, increase the number of iterations.\n",
      "  warnings.warn(\n"
     ]
    },
    {
     "name": "stdout",
     "output_type": "stream",
     "text": [
      "[CV 5/10] END clf__estimator=LinearSVC(), clf__estimator__C=10, clf__estimator__max_iter=5000, norm=StandardScaler(), norm__with_mean=False;, score=0.574 total time=   9.7s\n"
     ]
    },
    {
     "name": "stderr",
     "output_type": "stream",
     "text": [
      "C:\\Python310\\lib\\site-packages\\sklearn\\svm\\_base.py:1206: ConvergenceWarning: Liblinear failed to converge, increase the number of iterations.\n",
      "  warnings.warn(\n"
     ]
    },
    {
     "name": "stdout",
     "output_type": "stream",
     "text": [
      "[CV 6/10] END clf__estimator=LinearSVC(), clf__estimator__C=10, clf__estimator__max_iter=5000, norm=StandardScaler(), norm__with_mean=False;, score=0.580 total time=   9.7s\n"
     ]
    },
    {
     "name": "stderr",
     "output_type": "stream",
     "text": [
      "C:\\Python310\\lib\\site-packages\\sklearn\\svm\\_base.py:1206: ConvergenceWarning: Liblinear failed to converge, increase the number of iterations.\n",
      "  warnings.warn(\n"
     ]
    },
    {
     "name": "stdout",
     "output_type": "stream",
     "text": [
      "[CV 7/10] END clf__estimator=LinearSVC(), clf__estimator__C=10, clf__estimator__max_iter=5000, norm=StandardScaler(), norm__with_mean=False;, score=0.600 total time=   9.9s\n"
     ]
    },
    {
     "name": "stderr",
     "output_type": "stream",
     "text": [
      "C:\\Python310\\lib\\site-packages\\sklearn\\svm\\_base.py:1206: ConvergenceWarning: Liblinear failed to converge, increase the number of iterations.\n",
      "  warnings.warn(\n"
     ]
    },
    {
     "name": "stdout",
     "output_type": "stream",
     "text": [
      "[CV 8/10] END clf__estimator=LinearSVC(), clf__estimator__C=10, clf__estimator__max_iter=5000, norm=StandardScaler(), norm__with_mean=False;, score=0.578 total time=   9.8s\n"
     ]
    },
    {
     "name": "stderr",
     "output_type": "stream",
     "text": [
      "C:\\Python310\\lib\\site-packages\\sklearn\\svm\\_base.py:1206: ConvergenceWarning: Liblinear failed to converge, increase the number of iterations.\n",
      "  warnings.warn(\n"
     ]
    },
    {
     "name": "stdout",
     "output_type": "stream",
     "text": [
      "[CV 9/10] END clf__estimator=LinearSVC(), clf__estimator__C=10, clf__estimator__max_iter=5000, norm=StandardScaler(), norm__with_mean=False;, score=0.603 total time=   9.6s\n"
     ]
    },
    {
     "name": "stderr",
     "output_type": "stream",
     "text": [
      "C:\\Python310\\lib\\site-packages\\sklearn\\svm\\_base.py:1206: ConvergenceWarning: Liblinear failed to converge, increase the number of iterations.\n",
      "  warnings.warn(\n"
     ]
    },
    {
     "name": "stdout",
     "output_type": "stream",
     "text": [
      "[CV 10/10] END clf__estimator=LinearSVC(), clf__estimator__C=10, clf__estimator__max_iter=5000, norm=StandardScaler(), norm__with_mean=False;, score=0.583 total time=   9.7s\n"
     ]
    },
    {
     "name": "stderr",
     "output_type": "stream",
     "text": [
      "C:\\Python310\\lib\\site-packages\\sklearn\\svm\\_base.py:1206: ConvergenceWarning: Liblinear failed to converge, increase the number of iterations.\n",
      "  warnings.warn(\n"
     ]
    },
    {
     "name": "stdout",
     "output_type": "stream",
     "text": [
      "[CV 1/10] END clf__estimator=LinearSVC(), clf__estimator__C=1, clf__estimator__max_iter=1000, norm=StandardScaler(), norm__with_mean=False;, score=0.599 total time=   2.0s\n"
     ]
    },
    {
     "name": "stderr",
     "output_type": "stream",
     "text": [
      "C:\\Python310\\lib\\site-packages\\sklearn\\svm\\_base.py:1206: ConvergenceWarning: Liblinear failed to converge, increase the number of iterations.\n",
      "  warnings.warn(\n"
     ]
    },
    {
     "name": "stdout",
     "output_type": "stream",
     "text": [
      "[CV 2/10] END clf__estimator=LinearSVC(), clf__estimator__C=1, clf__estimator__max_iter=1000, norm=StandardScaler(), norm__with_mean=False;, score=0.610 total time=   2.0s\n"
     ]
    },
    {
     "name": "stderr",
     "output_type": "stream",
     "text": [
      "C:\\Python310\\lib\\site-packages\\sklearn\\svm\\_base.py:1206: ConvergenceWarning: Liblinear failed to converge, increase the number of iterations.\n",
      "  warnings.warn(\n"
     ]
    },
    {
     "name": "stdout",
     "output_type": "stream",
     "text": [
      "[CV 3/10] END clf__estimator=LinearSVC(), clf__estimator__C=1, clf__estimator__max_iter=1000, norm=StandardScaler(), norm__with_mean=False;, score=0.593 total time=   2.0s\n"
     ]
    },
    {
     "name": "stderr",
     "output_type": "stream",
     "text": [
      "C:\\Python310\\lib\\site-packages\\sklearn\\svm\\_base.py:1206: ConvergenceWarning: Liblinear failed to converge, increase the number of iterations.\n",
      "  warnings.warn(\n"
     ]
    },
    {
     "name": "stdout",
     "output_type": "stream",
     "text": [
      "[CV 4/10] END clf__estimator=LinearSVC(), clf__estimator__C=1, clf__estimator__max_iter=1000, norm=StandardScaler(), norm__with_mean=False;, score=0.598 total time=   2.0s\n"
     ]
    },
    {
     "name": "stderr",
     "output_type": "stream",
     "text": [
      "C:\\Python310\\lib\\site-packages\\sklearn\\svm\\_base.py:1206: ConvergenceWarning: Liblinear failed to converge, increase the number of iterations.\n",
      "  warnings.warn(\n"
     ]
    },
    {
     "name": "stdout",
     "output_type": "stream",
     "text": [
      "[CV 5/10] END clf__estimator=LinearSVC(), clf__estimator__C=1, clf__estimator__max_iter=1000, norm=StandardScaler(), norm__with_mean=False;, score=0.609 total time=   2.0s\n"
     ]
    },
    {
     "name": "stderr",
     "output_type": "stream",
     "text": [
      "C:\\Python310\\lib\\site-packages\\sklearn\\svm\\_base.py:1206: ConvergenceWarning: Liblinear failed to converge, increase the number of iterations.\n",
      "  warnings.warn(\n"
     ]
    },
    {
     "name": "stdout",
     "output_type": "stream",
     "text": [
      "[CV 6/10] END clf__estimator=LinearSVC(), clf__estimator__C=1, clf__estimator__max_iter=1000, norm=StandardScaler(), norm__with_mean=False;, score=0.594 total time=   2.0s\n"
     ]
    },
    {
     "name": "stderr",
     "output_type": "stream",
     "text": [
      "C:\\Python310\\lib\\site-packages\\sklearn\\svm\\_base.py:1206: ConvergenceWarning: Liblinear failed to converge, increase the number of iterations.\n",
      "  warnings.warn(\n"
     ]
    },
    {
     "name": "stdout",
     "output_type": "stream",
     "text": [
      "[CV 7/10] END clf__estimator=LinearSVC(), clf__estimator__C=1, clf__estimator__max_iter=1000, norm=StandardScaler(), norm__with_mean=False;, score=0.622 total time=   2.0s\n"
     ]
    },
    {
     "name": "stderr",
     "output_type": "stream",
     "text": [
      "C:\\Python310\\lib\\site-packages\\sklearn\\svm\\_base.py:1206: ConvergenceWarning: Liblinear failed to converge, increase the number of iterations.\n",
      "  warnings.warn(\n"
     ]
    },
    {
     "name": "stdout",
     "output_type": "stream",
     "text": [
      "[CV 8/10] END clf__estimator=LinearSVC(), clf__estimator__C=1, clf__estimator__max_iter=1000, norm=StandardScaler(), norm__with_mean=False;, score=0.594 total time=   2.0s\n"
     ]
    },
    {
     "name": "stderr",
     "output_type": "stream",
     "text": [
      "C:\\Python310\\lib\\site-packages\\sklearn\\svm\\_base.py:1206: ConvergenceWarning: Liblinear failed to converge, increase the number of iterations.\n",
      "  warnings.warn(\n"
     ]
    },
    {
     "name": "stdout",
     "output_type": "stream",
     "text": [
      "[CV 9/10] END clf__estimator=LinearSVC(), clf__estimator__C=1, clf__estimator__max_iter=1000, norm=StandardScaler(), norm__with_mean=False;, score=0.592 total time=   2.0s\n"
     ]
    },
    {
     "name": "stderr",
     "output_type": "stream",
     "text": [
      "C:\\Python310\\lib\\site-packages\\sklearn\\svm\\_base.py:1206: ConvergenceWarning: Liblinear failed to converge, increase the number of iterations.\n",
      "  warnings.warn(\n"
     ]
    },
    {
     "name": "stdout",
     "output_type": "stream",
     "text": [
      "[CV 10/10] END clf__estimator=LinearSVC(), clf__estimator__C=1, clf__estimator__max_iter=1000, norm=StandardScaler(), norm__with_mean=False;, score=0.606 total time=   2.0s\n"
     ]
    },
    {
     "name": "stderr",
     "output_type": "stream",
     "text": [
      "C:\\Python310\\lib\\site-packages\\sklearn\\svm\\_base.py:1206: ConvergenceWarning: Liblinear failed to converge, increase the number of iterations.\n",
      "  warnings.warn(\n"
     ]
    },
    {
     "name": "stdout",
     "output_type": "stream",
     "text": [
      "[CV 1/10] END clf__estimator=LinearSVC(), clf__estimator__C=1, clf__estimator__max_iter=5000, norm=StandardScaler(), norm__with_mean=False;, score=0.639 total time=   9.3s\n"
     ]
    },
    {
     "name": "stderr",
     "output_type": "stream",
     "text": [
      "C:\\Python310\\lib\\site-packages\\sklearn\\svm\\_base.py:1206: ConvergenceWarning: Liblinear failed to converge, increase the number of iterations.\n",
      "  warnings.warn(\n"
     ]
    },
    {
     "name": "stdout",
     "output_type": "stream",
     "text": [
      "[CV 2/10] END clf__estimator=LinearSVC(), clf__estimator__C=1, clf__estimator__max_iter=5000, norm=StandardScaler(), norm__with_mean=False;, score=0.626 total time=   9.4s\n"
     ]
    },
    {
     "name": "stderr",
     "output_type": "stream",
     "text": [
      "C:\\Python310\\lib\\site-packages\\sklearn\\svm\\_base.py:1206: ConvergenceWarning: Liblinear failed to converge, increase the number of iterations.\n",
      "  warnings.warn(\n"
     ]
    },
    {
     "name": "stdout",
     "output_type": "stream",
     "text": [
      "[CV 3/10] END clf__estimator=LinearSVC(), clf__estimator__C=1, clf__estimator__max_iter=5000, norm=StandardScaler(), norm__with_mean=False;, score=0.621 total time=   9.5s\n"
     ]
    },
    {
     "name": "stderr",
     "output_type": "stream",
     "text": [
      "C:\\Python310\\lib\\site-packages\\sklearn\\svm\\_base.py:1206: ConvergenceWarning: Liblinear failed to converge, increase the number of iterations.\n",
      "  warnings.warn(\n"
     ]
    },
    {
     "name": "stdout",
     "output_type": "stream",
     "text": [
      "[CV 4/10] END clf__estimator=LinearSVC(), clf__estimator__C=1, clf__estimator__max_iter=5000, norm=StandardScaler(), norm__with_mean=False;, score=0.612 total time=   9.4s\n"
     ]
    },
    {
     "name": "stderr",
     "output_type": "stream",
     "text": [
      "C:\\Python310\\lib\\site-packages\\sklearn\\svm\\_base.py:1206: ConvergenceWarning: Liblinear failed to converge, increase the number of iterations.\n",
      "  warnings.warn(\n"
     ]
    },
    {
     "name": "stdout",
     "output_type": "stream",
     "text": [
      "[CV 5/10] END clf__estimator=LinearSVC(), clf__estimator__C=1, clf__estimator__max_iter=5000, norm=StandardScaler(), norm__with_mean=False;, score=0.625 total time=   9.5s\n"
     ]
    },
    {
     "name": "stderr",
     "output_type": "stream",
     "text": [
      "C:\\Python310\\lib\\site-packages\\sklearn\\svm\\_base.py:1206: ConvergenceWarning: Liblinear failed to converge, increase the number of iterations.\n",
      "  warnings.warn(\n"
     ]
    },
    {
     "name": "stdout",
     "output_type": "stream",
     "text": [
      "[CV 6/10] END clf__estimator=LinearSVC(), clf__estimator__C=1, clf__estimator__max_iter=5000, norm=StandardScaler(), norm__with_mean=False;, score=0.628 total time=   9.4s\n"
     ]
    },
    {
     "name": "stderr",
     "output_type": "stream",
     "text": [
      "C:\\Python310\\lib\\site-packages\\sklearn\\svm\\_base.py:1206: ConvergenceWarning: Liblinear failed to converge, increase the number of iterations.\n",
      "  warnings.warn(\n"
     ]
    },
    {
     "name": "stdout",
     "output_type": "stream",
     "text": [
      "[CV 7/10] END clf__estimator=LinearSVC(), clf__estimator__C=1, clf__estimator__max_iter=5000, norm=StandardScaler(), norm__with_mean=False;, score=0.636 total time=   9.5s\n"
     ]
    },
    {
     "name": "stderr",
     "output_type": "stream",
     "text": [
      "C:\\Python310\\lib\\site-packages\\sklearn\\svm\\_base.py:1206: ConvergenceWarning: Liblinear failed to converge, increase the number of iterations.\n",
      "  warnings.warn(\n"
     ]
    },
    {
     "name": "stdout",
     "output_type": "stream",
     "text": [
      "[CV 8/10] END clf__estimator=LinearSVC(), clf__estimator__C=1, clf__estimator__max_iter=5000, norm=StandardScaler(), norm__with_mean=False;, score=0.619 total time=   9.3s\n"
     ]
    },
    {
     "name": "stderr",
     "output_type": "stream",
     "text": [
      "C:\\Python310\\lib\\site-packages\\sklearn\\svm\\_base.py:1206: ConvergenceWarning: Liblinear failed to converge, increase the number of iterations.\n",
      "  warnings.warn(\n"
     ]
    },
    {
     "name": "stdout",
     "output_type": "stream",
     "text": [
      "[CV 9/10] END clf__estimator=LinearSVC(), clf__estimator__C=1, clf__estimator__max_iter=5000, norm=StandardScaler(), norm__with_mean=False;, score=0.633 total time=   9.4s\n"
     ]
    },
    {
     "name": "stderr",
     "output_type": "stream",
     "text": [
      "C:\\Python310\\lib\\site-packages\\sklearn\\svm\\_base.py:1206: ConvergenceWarning: Liblinear failed to converge, increase the number of iterations.\n",
      "  warnings.warn(\n"
     ]
    },
    {
     "name": "stdout",
     "output_type": "stream",
     "text": [
      "[CV 10/10] END clf__estimator=LinearSVC(), clf__estimator__C=1, clf__estimator__max_iter=5000, norm=StandardScaler(), norm__with_mean=False;, score=0.609 total time=   9.3s\n",
      "[CV 1/10] END clf__estimator=LinearSVC(), clf__estimator__C=0.001, clf__estimator__max_iter=1000, norm=StandardScaler(), norm__with_mean=False;, score=0.647 total time=   0.4s\n",
      "[CV 2/10] END clf__estimator=LinearSVC(), clf__estimator__C=0.001, clf__estimator__max_iter=1000, norm=StandardScaler(), norm__with_mean=False;, score=0.636 total time=   0.4s\n",
      "[CV 3/10] END clf__estimator=LinearSVC(), clf__estimator__C=0.001, clf__estimator__max_iter=1000, norm=StandardScaler(), norm__with_mean=False;, score=0.637 total time=   0.3s\n",
      "[CV 4/10] END clf__estimator=LinearSVC(), clf__estimator__C=0.001, clf__estimator__max_iter=1000, norm=StandardScaler(), norm__with_mean=False;, score=0.626 total time=   0.3s\n",
      "[CV 5/10] END clf__estimator=LinearSVC(), clf__estimator__C=0.001, clf__estimator__max_iter=1000, norm=StandardScaler(), norm__with_mean=False;, score=0.634 total time=   0.3s\n",
      "[CV 6/10] END clf__estimator=LinearSVC(), clf__estimator__C=0.001, clf__estimator__max_iter=1000, norm=StandardScaler(), norm__with_mean=False;, score=0.637 total time=   0.3s\n",
      "[CV 7/10] END clf__estimator=LinearSVC(), clf__estimator__C=0.001, clf__estimator__max_iter=1000, norm=StandardScaler(), norm__with_mean=False;, score=0.652 total time=   0.4s\n",
      "[CV 8/10] END clf__estimator=LinearSVC(), clf__estimator__C=0.001, clf__estimator__max_iter=1000, norm=StandardScaler(), norm__with_mean=False;, score=0.641 total time=   0.3s\n",
      "[CV 9/10] END clf__estimator=LinearSVC(), clf__estimator__C=0.001, clf__estimator__max_iter=1000, norm=StandardScaler(), norm__with_mean=False;, score=0.637 total time=   0.3s\n",
      "[CV 10/10] END clf__estimator=LinearSVC(), clf__estimator__C=0.001, clf__estimator__max_iter=1000, norm=StandardScaler(), norm__with_mean=False;, score=0.627 total time=   0.3s\n",
      "[CV 1/10] END clf__estimator=LinearSVC(), clf__estimator__C=0.001, clf__estimator__max_iter=5000, norm=StandardScaler(), norm__with_mean=False;, score=0.647 total time=   0.4s\n",
      "[CV 2/10] END clf__estimator=LinearSVC(), clf__estimator__C=0.001, clf__estimator__max_iter=5000, norm=StandardScaler(), norm__with_mean=False;, score=0.636 total time=   0.4s\n",
      "[CV 3/10] END clf__estimator=LinearSVC(), clf__estimator__C=0.001, clf__estimator__max_iter=5000, norm=StandardScaler(), norm__with_mean=False;, score=0.637 total time=   0.3s\n",
      "[CV 4/10] END clf__estimator=LinearSVC(), clf__estimator__C=0.001, clf__estimator__max_iter=5000, norm=StandardScaler(), norm__with_mean=False;, score=0.626 total time=   0.3s\n",
      "[CV 5/10] END clf__estimator=LinearSVC(), clf__estimator__C=0.001, clf__estimator__max_iter=5000, norm=StandardScaler(), norm__with_mean=False;, score=0.634 total time=   0.4s\n",
      "[CV 6/10] END clf__estimator=LinearSVC(), clf__estimator__C=0.001, clf__estimator__max_iter=5000, norm=StandardScaler(), norm__with_mean=False;, score=0.637 total time=   0.3s\n",
      "[CV 7/10] END clf__estimator=LinearSVC(), clf__estimator__C=0.001, clf__estimator__max_iter=5000, norm=StandardScaler(), norm__with_mean=False;, score=0.652 total time=   0.4s\n",
      "[CV 8/10] END clf__estimator=LinearSVC(), clf__estimator__C=0.001, clf__estimator__max_iter=5000, norm=StandardScaler(), norm__with_mean=False;, score=0.641 total time=   0.4s\n",
      "[CV 9/10] END clf__estimator=LinearSVC(), clf__estimator__C=0.001, clf__estimator__max_iter=5000, norm=StandardScaler(), norm__with_mean=False;, score=0.637 total time=   0.3s\n",
      "[CV 10/10] END clf__estimator=LinearSVC(), clf__estimator__C=0.001, clf__estimator__max_iter=5000, norm=StandardScaler(), norm__with_mean=False;, score=0.627 total time=   0.3s\n",
      "[CV 1/10] END clf__estimator=LinearSVC(), clf__estimator__C=1e-06, clf__estimator__max_iter=1000, norm=StandardScaler(), norm__with_mean=False;, score=0.593 total time=   0.0s\n",
      "[CV 2/10] END clf__estimator=LinearSVC(), clf__estimator__C=1e-06, clf__estimator__max_iter=1000, norm=StandardScaler(), norm__with_mean=False;, score=0.586 total time=   0.0s\n",
      "[CV 3/10] END clf__estimator=LinearSVC(), clf__estimator__C=1e-06, clf__estimator__max_iter=1000, norm=StandardScaler(), norm__with_mean=False;, score=0.575 total time=   0.0s\n",
      "[CV 4/10] END clf__estimator=LinearSVC(), clf__estimator__C=1e-06, clf__estimator__max_iter=1000, norm=StandardScaler(), norm__with_mean=False;, score=0.561 total time=   0.0s\n",
      "[CV 5/10] END clf__estimator=LinearSVC(), clf__estimator__C=1e-06, clf__estimator__max_iter=1000, norm=StandardScaler(), norm__with_mean=False;, score=0.568 total time=   0.0s\n",
      "[CV 6/10] END clf__estimator=LinearSVC(), clf__estimator__C=1e-06, clf__estimator__max_iter=1000, norm=StandardScaler(), norm__with_mean=False;, score=0.578 total time=   0.0s\n",
      "[CV 7/10] END clf__estimator=LinearSVC(), clf__estimator__C=1e-06, clf__estimator__max_iter=1000, norm=StandardScaler(), norm__with_mean=False;, score=0.568 total time=   0.0s\n",
      "[CV 8/10] END clf__estimator=LinearSVC(), clf__estimator__C=1e-06, clf__estimator__max_iter=1000, norm=StandardScaler(), norm__with_mean=False;, score=0.728 total time=   0.0s\n",
      "[CV 9/10] END clf__estimator=LinearSVC(), clf__estimator__C=1e-06, clf__estimator__max_iter=1000, norm=StandardScaler(), norm__with_mean=False;, score=0.677 total time=   0.0s\n",
      "[CV 10/10] END clf__estimator=LinearSVC(), clf__estimator__C=1e-06, clf__estimator__max_iter=1000, norm=StandardScaler(), norm__with_mean=False;, score=0.580 total time=   0.0s\n",
      "[CV 1/10] END clf__estimator=LinearSVC(), clf__estimator__C=1e-06, clf__estimator__max_iter=5000, norm=StandardScaler(), norm__with_mean=False;, score=0.593 total time=   0.0s\n",
      "[CV 2/10] END clf__estimator=LinearSVC(), clf__estimator__C=1e-06, clf__estimator__max_iter=5000, norm=StandardScaler(), norm__with_mean=False;, score=0.586 total time=   0.0s\n",
      "[CV 3/10] END clf__estimator=LinearSVC(), clf__estimator__C=1e-06, clf__estimator__max_iter=5000, norm=StandardScaler(), norm__with_mean=False;, score=0.575 total time=   0.0s\n",
      "[CV 4/10] END clf__estimator=LinearSVC(), clf__estimator__C=1e-06, clf__estimator__max_iter=5000, norm=StandardScaler(), norm__with_mean=False;, score=0.561 total time=   0.0s\n",
      "[CV 5/10] END clf__estimator=LinearSVC(), clf__estimator__C=1e-06, clf__estimator__max_iter=5000, norm=StandardScaler(), norm__with_mean=False;, score=0.568 total time=   0.0s\n",
      "[CV 6/10] END clf__estimator=LinearSVC(), clf__estimator__C=1e-06, clf__estimator__max_iter=5000, norm=StandardScaler(), norm__with_mean=False;, score=0.578 total time=   0.0s\n",
      "[CV 7/10] END clf__estimator=LinearSVC(), clf__estimator__C=1e-06, clf__estimator__max_iter=5000, norm=StandardScaler(), norm__with_mean=False;, score=0.568 total time=   0.0s\n",
      "[CV 8/10] END clf__estimator=LinearSVC(), clf__estimator__C=1e-06, clf__estimator__max_iter=5000, norm=StandardScaler(), norm__with_mean=False;, score=0.728 total time=   0.0s\n",
      "[CV 9/10] END clf__estimator=LinearSVC(), clf__estimator__C=1e-06, clf__estimator__max_iter=5000, norm=StandardScaler(), norm__with_mean=False;, score=0.677 total time=   0.0s\n",
      "[CV 10/10] END clf__estimator=LinearSVC(), clf__estimator__C=1e-06, clf__estimator__max_iter=5000, norm=StandardScaler(), norm__with_mean=False;, score=0.580 total time=   0.0s\n",
      "[CV 1/10] END clf__estimator=KNeighborsClassifier(), clf__estimator__n_neighbors=5;, score=0.580 total time=   0.6s\n",
      "[CV 2/10] END clf__estimator=KNeighborsClassifier(), clf__estimator__n_neighbors=5;, score=0.569 total time=   0.6s\n",
      "[CV 3/10] END clf__estimator=KNeighborsClassifier(), clf__estimator__n_neighbors=5;, score=0.569 total time=   0.7s\n",
      "[CV 4/10] END clf__estimator=KNeighborsClassifier(), clf__estimator__n_neighbors=5;, score=0.550 total time=   0.6s\n",
      "[CV 5/10] END clf__estimator=KNeighborsClassifier(), clf__estimator__n_neighbors=5;, score=0.557 total time=   0.6s\n",
      "[CV 6/10] END clf__estimator=KNeighborsClassifier(), clf__estimator__n_neighbors=5;, score=0.553 total time=   0.6s\n",
      "[CV 7/10] END clf__estimator=KNeighborsClassifier(), clf__estimator__n_neighbors=5;, score=0.546 total time=   0.6s\n",
      "[CV 8/10] END clf__estimator=KNeighborsClassifier(), clf__estimator__n_neighbors=5;, score=0.654 total time=   0.6s\n",
      "[CV 9/10] END clf__estimator=KNeighborsClassifier(), clf__estimator__n_neighbors=5;, score=0.627 total time=   0.6s\n",
      "[CV 10/10] END clf__estimator=KNeighborsClassifier(), clf__estimator__n_neighbors=5;, score=0.558 total time=   0.6s\n",
      "[CV 1/10] END clf__estimator=KNeighborsClassifier(), clf__estimator__n_neighbors=10;, score=0.581 total time=   0.6s\n",
      "[CV 2/10] END clf__estimator=KNeighborsClassifier(), clf__estimator__n_neighbors=10;, score=0.576 total time=   0.6s\n",
      "[CV 3/10] END clf__estimator=KNeighborsClassifier(), clf__estimator__n_neighbors=10;, score=0.576 total time=   0.6s\n",
      "[CV 4/10] END clf__estimator=KNeighborsClassifier(), clf__estimator__n_neighbors=10;, score=0.561 total time=   0.7s\n",
      "[CV 5/10] END clf__estimator=KNeighborsClassifier(), clf__estimator__n_neighbors=10;, score=0.575 total time=   0.6s\n",
      "[CV 6/10] END clf__estimator=KNeighborsClassifier(), clf__estimator__n_neighbors=10;, score=0.564 total time=   0.6s\n",
      "[CV 7/10] END clf__estimator=KNeighborsClassifier(), clf__estimator__n_neighbors=10;, score=0.556 total time=   0.6s\n",
      "[CV 8/10] END clf__estimator=KNeighborsClassifier(), clf__estimator__n_neighbors=10;, score=0.695 total time=   0.6s\n",
      "[CV 9/10] END clf__estimator=KNeighborsClassifier(), clf__estimator__n_neighbors=10;, score=0.658 total time=   0.6s\n",
      "[CV 10/10] END clf__estimator=KNeighborsClassifier(), clf__estimator__n_neighbors=10;, score=0.578 total time=   0.6s\n",
      "[CV 1/10] END clf__estimator=KNeighborsClassifier(), clf__estimator__n_neighbors=100;, score=0.572 total time=   0.7s\n",
      "[CV 2/10] END clf__estimator=KNeighborsClassifier(), clf__estimator__n_neighbors=100;, score=0.565 total time=   0.7s\n",
      "[CV 3/10] END clf__estimator=KNeighborsClassifier(), clf__estimator__n_neighbors=100;, score=0.555 total time=   0.6s\n",
      "[CV 4/10] END clf__estimator=KNeighborsClassifier(), clf__estimator__n_neighbors=100;, score=0.550 total time=   0.6s\n",
      "[CV 5/10] END clf__estimator=KNeighborsClassifier(), clf__estimator__n_neighbors=100;, score=0.552 total time=   0.7s\n",
      "[CV 6/10] END clf__estimator=KNeighborsClassifier(), clf__estimator__n_neighbors=100;, score=0.557 total time=   0.7s\n",
      "[CV 7/10] END clf__estimator=KNeighborsClassifier(), clf__estimator__n_neighbors=100;, score=0.554 total time=   0.7s\n",
      "[CV 8/10] END clf__estimator=KNeighborsClassifier(), clf__estimator__n_neighbors=100;, score=0.733 total time=   0.6s\n",
      "[CV 9/10] END clf__estimator=KNeighborsClassifier(), clf__estimator__n_neighbors=100;, score=0.672 total time=   0.7s\n",
      "[CV 10/10] END clf__estimator=KNeighborsClassifier(), clf__estimator__n_neighbors=100;, score=0.567 total time=   0.6s\n",
      "[CV 1/10] END clf__estimator=DecisionTreeClassifier(), clf__estimator__criterion=gini, clf__estimator__max_depth=None;, score=0.580 total time=   1.4s\n",
      "[CV 2/10] END clf__estimator=DecisionTreeClassifier(), clf__estimator__criterion=gini, clf__estimator__max_depth=None;, score=0.582 total time=   1.4s\n",
      "[CV 3/10] END clf__estimator=DecisionTreeClassifier(), clf__estimator__criterion=gini, clf__estimator__max_depth=None;, score=0.583 total time=   1.4s\n",
      "[CV 4/10] END clf__estimator=DecisionTreeClassifier(), clf__estimator__criterion=gini, clf__estimator__max_depth=None;, score=0.573 total time=   1.5s\n",
      "[CV 5/10] END clf__estimator=DecisionTreeClassifier(), clf__estimator__criterion=gini, clf__estimator__max_depth=None;, score=0.580 total time=   1.4s\n",
      "[CV 6/10] END clf__estimator=DecisionTreeClassifier(), clf__estimator__criterion=gini, clf__estimator__max_depth=None;, score=0.590 total time=   1.4s\n",
      "[CV 7/10] END clf__estimator=DecisionTreeClassifier(), clf__estimator__criterion=gini, clf__estimator__max_depth=None;, score=0.582 total time=   1.4s\n",
      "[CV 8/10] END clf__estimator=DecisionTreeClassifier(), clf__estimator__criterion=gini, clf__estimator__max_depth=None;, score=0.589 total time=   1.4s\n",
      "[CV 9/10] END clf__estimator=DecisionTreeClassifier(), clf__estimator__criterion=gini, clf__estimator__max_depth=None;, score=0.580 total time=   1.4s\n",
      "[CV 10/10] END clf__estimator=DecisionTreeClassifier(), clf__estimator__criterion=gini, clf__estimator__max_depth=None;, score=0.558 total time=   1.5s\n",
      "[CV 1/10] END clf__estimator=DecisionTreeClassifier(), clf__estimator__criterion=gini, clf__estimator__max_depth=1;, score=0.579 total time=   0.0s\n",
      "[CV 2/10] END clf__estimator=DecisionTreeClassifier(), clf__estimator__criterion=gini, clf__estimator__max_depth=1;, score=0.565 total time=   0.0s\n",
      "[CV 3/10] END clf__estimator=DecisionTreeClassifier(), clf__estimator__criterion=gini, clf__estimator__max_depth=1;, score=0.563 total time=   0.0s\n",
      "[CV 4/10] END clf__estimator=DecisionTreeClassifier(), clf__estimator__criterion=gini, clf__estimator__max_depth=1;, score=0.548 total time=   0.0s\n",
      "[CV 5/10] END clf__estimator=DecisionTreeClassifier(), clf__estimator__criterion=gini, clf__estimator__max_depth=1;, score=0.550 total time=   0.0s\n",
      "[CV 6/10] END clf__estimator=DecisionTreeClassifier(), clf__estimator__criterion=gini, clf__estimator__max_depth=1;, score=0.560 total time=   0.0s\n",
      "[CV 7/10] END clf__estimator=DecisionTreeClassifier(), clf__estimator__criterion=gini, clf__estimator__max_depth=1;, score=0.556 total time=   0.0s\n",
      "[CV 8/10] END clf__estimator=DecisionTreeClassifier(), clf__estimator__criterion=gini, clf__estimator__max_depth=1;, score=0.728 total time=   0.0s\n",
      "[CV 9/10] END clf__estimator=DecisionTreeClassifier(), clf__estimator__criterion=gini, clf__estimator__max_depth=1;, score=0.674 total time=   0.0s\n",
      "[CV 10/10] END clf__estimator=DecisionTreeClassifier(), clf__estimator__criterion=gini, clf__estimator__max_depth=1;, score=0.563 total time=   0.0s\n",
      "[CV 1/10] END clf__estimator=DecisionTreeClassifier(), clf__estimator__criterion=gini, clf__estimator__max_depth=10;, score=0.625 total time=   0.0s\n",
      "[CV 2/10] END clf__estimator=DecisionTreeClassifier(), clf__estimator__criterion=gini, clf__estimator__max_depth=10;, score=0.590 total time=   0.0s\n",
      "[CV 3/10] END clf__estimator=DecisionTreeClassifier(), clf__estimator__criterion=gini, clf__estimator__max_depth=10;, score=0.593 total time=   0.0s\n",
      "[CV 4/10] END clf__estimator=DecisionTreeClassifier(), clf__estimator__criterion=gini, clf__estimator__max_depth=10;, score=0.589 total time=   0.0s\n",
      "[CV 5/10] END clf__estimator=DecisionTreeClassifier(), clf__estimator__criterion=gini, clf__estimator__max_depth=10;, score=0.595 total time=   0.0s\n",
      "[CV 6/10] END clf__estimator=DecisionTreeClassifier(), clf__estimator__criterion=gini, clf__estimator__max_depth=10;, score=0.599 total time=   0.0s\n",
      "[CV 7/10] END clf__estimator=DecisionTreeClassifier(), clf__estimator__criterion=gini, clf__estimator__max_depth=10;, score=0.585 total time=   0.0s\n",
      "[CV 8/10] END clf__estimator=DecisionTreeClassifier(), clf__estimator__criterion=gini, clf__estimator__max_depth=10;, score=0.706 total time=   0.0s\n",
      "[CV 9/10] END clf__estimator=DecisionTreeClassifier(), clf__estimator__criterion=gini, clf__estimator__max_depth=10;, score=0.677 total time=   0.0s\n",
      "[CV 10/10] END clf__estimator=DecisionTreeClassifier(), clf__estimator__criterion=gini, clf__estimator__max_depth=10;, score=0.598 total time=   0.0s\n",
      "[CV 1/10] END clf__estimator=DecisionTreeClassifier(), clf__estimator__criterion=gini, clf__estimator__max_depth=20;, score=0.630 total time=   0.0s\n",
      "[CV 2/10] END clf__estimator=DecisionTreeClassifier(), clf__estimator__criterion=gini, clf__estimator__max_depth=20;, score=0.603 total time=   0.0s\n",
      "[CV 3/10] END clf__estimator=DecisionTreeClassifier(), clf__estimator__criterion=gini, clf__estimator__max_depth=20;, score=0.605 total time=   0.0s\n",
      "[CV 4/10] END clf__estimator=DecisionTreeClassifier(), clf__estimator__criterion=gini, clf__estimator__max_depth=20;, score=0.600 total time=   0.0s\n",
      "[CV 5/10] END clf__estimator=DecisionTreeClassifier(), clf__estimator__criterion=gini, clf__estimator__max_depth=20;, score=0.608 total time=   0.0s\n",
      "[CV 6/10] END clf__estimator=DecisionTreeClassifier(), clf__estimator__criterion=gini, clf__estimator__max_depth=20;, score=0.612 total time=   0.0s\n",
      "[CV 7/10] END clf__estimator=DecisionTreeClassifier(), clf__estimator__criterion=gini, clf__estimator__max_depth=20;, score=0.606 total time=   0.0s\n",
      "[CV 8/10] END clf__estimator=DecisionTreeClassifier(), clf__estimator__criterion=gini, clf__estimator__max_depth=20;, score=0.703 total time=   0.0s\n",
      "[CV 9/10] END clf__estimator=DecisionTreeClassifier(), clf__estimator__criterion=gini, clf__estimator__max_depth=20;, score=0.682 total time=   0.0s\n",
      "[CV 10/10] END clf__estimator=DecisionTreeClassifier(), clf__estimator__criterion=gini, clf__estimator__max_depth=20;, score=0.609 total time=   0.0s\n"
     ]
    }
   ],
   "source": [
    "# Generate variable choices for the model\n",
    "MAX_ITER = [1000, 5000]\n",
    "SVC_C = [10, 1, 1e-3, 1e-6]\n",
    "KNN_N = [5, 10, 100]\n",
    "DT_CRITERION = ['gini', 'entropy']\n",
    "DT_MAX_DEPTH = [None, 1, 10, 20]\n",
    "NB_ALPHAS = [1, 1e-3, 1e-6]\n",
    "NB_FIT_PRIOR = [True, False]\n",
    "LR_SOLVER = ['newton-cg', 'sag', 'saga', 'lbfgs']\n",
    "\n",
    "# define the pipeline for parameter selection\n",
    "cachedir = mkdtemp()\n",
    "pipeline = Pipeline(\n",
    "    [\n",
    "        ('norm', 'passthrough'),\n",
    "        ('clf', ClassifierContainer()), # allows switching between classifiers\n",
    "    ],\n",
    "    memory=cachedir\n",
    ")\n",
    "\n",
    "# add the parameters possible (to permutate over)\n",
    "parameters = [\n",
    "    { # CLF 1: Linear Support Vector Classifiers\n",
    "        'norm': [StandardScaler(), 'passthrough'],\n",
    "        'norm__with_mean': [False],\n",
    "        'clf__estimator': [LinearSVC()],\n",
    "        'clf__estimator__C': SVC_C,\n",
    "        'clf__estimator__max_iter': MAX_ITER,\n",
    "    },\n",
    "    { # CLF 2: K Nearest-Neighbours\n",
    "        'clf__estimator': [KNeighborsClassifier()],\n",
    "        'clf__estimator__n_neighbors': KNN_N,\n",
    "    },\n",
    "    { # CLF 3: Decision Trees\n",
    "        'clf__estimator': [DecisionTreeClassifier()],\n",
    "        'clf__estimator__criterion': DT_CRITERION,\n",
    "        'clf__estimator__max_depth': DT_MAX_DEPTH,\n",
    "    },\n",
    "    { # CLF 4: Gaussian Naive Bayes\n",
    "        'clf__estimator': [MultinomialNB(), BernoulliNB()],\n",
    "        'clf__estimator__alpha': NB_ALPHAS,\n",
    "        'clf__estimator__fit_prior': NB_FIT_PRIOR,\n",
    "    },\n",
    "    { # CLF 5: Logistic Regression\n",
    "        'clf__estimator': [LogisticRegression()],\n",
    "        'clf__estimator__max_iter': MAX_ITER,\n",
    "        'clf__estimator__solver': LR_SOLVER,\n",
    "    },\n",
    "]\n",
    "\n",
    "# this next code needs to occur in a main block\n",
    "if __name__ == \"__main__\":    \n",
    "    # find the best classifier by grid search\n",
    "    grid_search = GridSearchCV(pipeline, parameters, cv=10, verbose=3, error_score='raise')\n",
    "    print(\"Performing grid search...\")\n",
    "    print(\"pipeline:\", [name for name, _ in pipeline.steps])\n",
    "    print(\"parameters:\")\n",
    "    pprint(parameters)\n",
    "    t0 = time()\n",
    "    grid_search.fit(train_features, train_output)\n",
    "    print(\"done in %0.3fs\" % (time() - t0))\n",
    "    print()\n",
    "\n",
    "    print(\"Best score: %0.3f\" % grid_search.best_score_)\n",
    "    print(\"Best parameters set:\")\n",
    "    best_parameters = grid_search.best_estimator_.get_params()\n",
    "    pprint(best_parameters)\n",
    "\n",
    "rmtree(cachedir)"
   ]
  }
 ],
 "metadata": {
  "interpreter": {
   "hash": "2be5faf79681da6f2a61fdfdd5405d65d042280f7fba6178067603e3a2925119"
  },
  "kernelspec": {
   "display_name": "Python 3.10.2 64-bit",
   "language": "python",
   "name": "python3"
  },
  "language_info": {
   "codemirror_mode": {
    "name": "ipython",
    "version": 3
   },
   "file_extension": ".py",
   "mimetype": "text/x-python",
   "name": "python",
   "nbconvert_exporter": "python",
   "pygments_lexer": "ipython3",
   "version": "3.10.2"
  },
  "orig_nbformat": 4
 },
 "nbformat": 4,
 "nbformat_minor": 2
}
